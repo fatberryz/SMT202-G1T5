{
 "cells": [
  {
   "cell_type": "code",
   "execution_count": 25,
   "metadata": {},
   "outputs": [],
   "source": [
    "import pandas as pd\n",
    "import numpy as np\n",
    "from sklearn.linear_model import LogisticRegression\n",
    "from sklearn.model_selection import train_test_split\n",
    "from sklearn.preprocessing import MinMaxScaler\n",
    "from vaderSentiment.vaderSentiment import SentimentIntensityAnalyzer\n",
    "from imblearn.over_sampling import RandomOverSampler\n",
    "from collections import Counter\n",
    "# import os\n",
    "# os.environ[\"PATH\"] += os.pathsep + r'C:\\Program Files (x86)\\graphviz-2.38\\release\\bin'"
   ]
  },
  {
   "cell_type": "code",
   "execution_count": 26,
   "metadata": {},
   "outputs": [
    {
     "data": {
      "text/html": [
       "<div>\n",
       "<style scoped>\n",
       "    .dataframe tbody tr th:only-of-type {\n",
       "        vertical-align: middle;\n",
       "    }\n",
       "\n",
       "    .dataframe tbody tr th {\n",
       "        vertical-align: top;\n",
       "    }\n",
       "\n",
       "    .dataframe thead th {\n",
       "        text-align: right;\n",
       "    }\n",
       "</style>\n",
       "<table border=\"1\" class=\"dataframe\">\n",
       "  <thead>\n",
       "    <tr style=\"text-align: right;\">\n",
       "      <th></th>\n",
       "      <th>School</th>\n",
       "      <th>Course</th>\n",
       "      <th>Experience</th>\n",
       "      <th>SMU_convenience</th>\n",
       "      <th>Visits_to_SMU</th>\n",
       "      <th>Area_of_visit</th>\n",
       "      <th>Purpose_visit</th>\n",
       "      <th>Arts_scene_Sentiments</th>\n",
       "      <th>Problems_Lack of medium</th>\n",
       "      <th>Problems_Lack of funds/grants</th>\n",
       "      <th>Problems_Lack of exposure</th>\n",
       "      <th>Problems_Lack of mentorship</th>\n",
       "      <th>enough_exposure_localartists</th>\n",
       "      <th>enough_exposure_successfulartists</th>\n",
       "      <th>Interest_featureartworks</th>\n",
       "      <th>Interest_viewartworks</th>\n",
       "      <th>Interest_collaborative</th>\n",
       "    </tr>\n",
       "  </thead>\n",
       "  <tbody>\n",
       "    <tr>\n",
       "      <td>0</td>\n",
       "      <td>SOTA</td>\n",
       "      <td>Dance</td>\n",
       "      <td>&gt; 5 years</td>\n",
       "      <td>3</td>\n",
       "      <td>1</td>\n",
       "      <td>Others</td>\n",
       "      <td>Eat</td>\n",
       "      <td>growing</td>\n",
       "      <td>1</td>\n",
       "      <td>1</td>\n",
       "      <td>1</td>\n",
       "      <td>0</td>\n",
       "      <td>3</td>\n",
       "      <td>0</td>\n",
       "      <td>0</td>\n",
       "      <td>3</td>\n",
       "      <td>1</td>\n",
       "    </tr>\n",
       "    <tr>\n",
       "      <td>1</td>\n",
       "      <td>SOTA</td>\n",
       "      <td>Dance</td>\n",
       "      <td>&gt; 5 years</td>\n",
       "      <td>3</td>\n",
       "      <td>4</td>\n",
       "      <td>T-Junction - the area outside Bras Basah MRT a...</td>\n",
       "      <td>Dance</td>\n",
       "      <td>I feel like it is growing, at least for the da...</td>\n",
       "      <td>0</td>\n",
       "      <td>1</td>\n",
       "      <td>1</td>\n",
       "      <td>1</td>\n",
       "      <td>2</td>\n",
       "      <td>2</td>\n",
       "      <td>1</td>\n",
       "      <td>2</td>\n",
       "      <td>1</td>\n",
       "    </tr>\n",
       "    <tr>\n",
       "      <td>2</td>\n",
       "      <td>SOTA</td>\n",
       "      <td>Dance</td>\n",
       "      <td>&gt; 5 years</td>\n",
       "      <td>3</td>\n",
       "      <td>4</td>\n",
       "      <td>T-Junction - the area outside Bras Basah MRT a...</td>\n",
       "      <td>Eat</td>\n",
       "      <td>very small and unknown</td>\n",
       "      <td>0</td>\n",
       "      <td>1</td>\n",
       "      <td>0</td>\n",
       "      <td>0</td>\n",
       "      <td>1</td>\n",
       "      <td>1</td>\n",
       "      <td>0</td>\n",
       "      <td>2</td>\n",
       "      <td>1</td>\n",
       "    </tr>\n",
       "    <tr>\n",
       "      <td>3</td>\n",
       "      <td>SOTA</td>\n",
       "      <td>Dance</td>\n",
       "      <td>&gt; 5 years</td>\n",
       "      <td>2</td>\n",
       "      <td>1</td>\n",
       "      <td>Common Walkways</td>\n",
       "      <td>Hang out with friends</td>\n",
       "      <td>It’s developing. The arts scene currently is s...</td>\n",
       "      <td>0</td>\n",
       "      <td>0</td>\n",
       "      <td>1</td>\n",
       "      <td>0</td>\n",
       "      <td>2</td>\n",
       "      <td>3</td>\n",
       "      <td>0</td>\n",
       "      <td>3</td>\n",
       "      <td>1</td>\n",
       "    </tr>\n",
       "    <tr>\n",
       "      <td>4</td>\n",
       "      <td>SOTA</td>\n",
       "      <td>Dance</td>\n",
       "      <td>&gt; 5 years</td>\n",
       "      <td>3</td>\n",
       "      <td>3</td>\n",
       "      <td>Others</td>\n",
       "      <td>Eat</td>\n",
       "      <td>The arts scene is Singapore is very small comp...</td>\n",
       "      <td>1</td>\n",
       "      <td>0</td>\n",
       "      <td>1</td>\n",
       "      <td>0</td>\n",
       "      <td>0</td>\n",
       "      <td>0</td>\n",
       "      <td>1</td>\n",
       "      <td>3</td>\n",
       "      <td>1</td>\n",
       "    </tr>\n",
       "  </tbody>\n",
       "</table>\n",
       "</div>"
      ],
      "text/plain": [
       "  School  Course Experience  SMU_convenience  Visits_to_SMU  \\\n",
       "0   SOTA  Dance   > 5 years                3              1   \n",
       "1   SOTA  Dance   > 5 years                3              4   \n",
       "2   SOTA  Dance   > 5 years                3              4   \n",
       "3   SOTA  Dance   > 5 years                2              1   \n",
       "4   SOTA  Dance   > 5 years                3              3   \n",
       "\n",
       "                                       Area_of_visit          Purpose_visit  \\\n",
       "0                                             Others                    Eat   \n",
       "1  T-Junction - the area outside Bras Basah MRT a...                  Dance   \n",
       "2  T-Junction - the area outside Bras Basah MRT a...                    Eat   \n",
       "3                                    Common Walkways  Hang out with friends   \n",
       "4                                             Others                    Eat   \n",
       "\n",
       "                               Arts_scene_Sentiments  Problems_Lack of medium  \\\n",
       "0                                            growing                        1   \n",
       "1  I feel like it is growing, at least for the da...                        0   \n",
       "2                             very small and unknown                        0   \n",
       "3  It’s developing. The arts scene currently is s...                        0   \n",
       "4  The arts scene is Singapore is very small comp...                        1   \n",
       "\n",
       "   Problems_Lack of funds/grants  Problems_Lack of exposure  \\\n",
       "0                              1                          1   \n",
       "1                              1                          1   \n",
       "2                              1                          0   \n",
       "3                              0                          1   \n",
       "4                              0                          1   \n",
       "\n",
       "   Problems_Lack of mentorship  enough_exposure_localartists  \\\n",
       "0                            0                             3   \n",
       "1                            1                             2   \n",
       "2                            0                             1   \n",
       "3                            0                             2   \n",
       "4                            0                             0   \n",
       "\n",
       "   enough_exposure_successfulartists  Interest_featureartworks  \\\n",
       "0                                  0                         0   \n",
       "1                                  2                         1   \n",
       "2                                  1                         0   \n",
       "3                                  3                         0   \n",
       "4                                  0                         1   \n",
       "\n",
       "   Interest_viewartworks  Interest_collaborative  \n",
       "0                      3                       1  \n",
       "1                      2                       1  \n",
       "2                      2                       1  \n",
       "3                      3                       1  \n",
       "4                      3                       1  "
      ]
     },
     "execution_count": 26,
     "metadata": {},
     "output_type": "execute_result"
    }
   ],
   "source": [
    "df = pd.read_csv('SMT202 Arts Students Survey_cleaned.csv')\n",
    "df.head()"
   ]
  },
  {
   "cell_type": "code",
   "execution_count": 27,
   "metadata": {},
   "outputs": [],
   "source": [
    "analyzer = SentimentIntensityAnalyzer()\n",
    "\n",
    "df['Arts_scene_Sentiments'] = df['Arts_scene_Sentiments'].fillna('')\n",
    "sentiment = df['Arts_scene_Sentiments'].apply(lambda x: analyzer.polarity_scores(x))\n",
    "df = pd.concat([df,sentiment.apply(pd.Series)],1)"
   ]
  },
  {
   "cell_type": "code",
   "execution_count": 28,
   "metadata": {},
   "outputs": [],
   "source": [
    "cat_cols = ['Area_of_visit','Experience','School','Course','Purpose_visit']\n",
    "X = pd.get_dummies(df, columns=cat_cols).drop(['Arts_scene_Sentiments','Interest_featureartworks','Interest_viewartworks','Interest_collaborative'], axis=1) \n",
    "y1 = df['Interest_featureartworks']\n",
    "y2 = df['Interest_collaborative']"
   ]
  },
  {
   "cell_type": "code",
   "execution_count": 29,
   "metadata": {},
   "outputs": [],
   "source": [
    "X_train, X_test, y_train, y_test = train_test_split(X, y1, test_size=0.4, random_state=0,stratify = y1)\n",
    "\n",
    "ros = RandomOverSampler(random_state=0,sampling_strategy=0.7)\n",
    "X_resampled, y_resampled = ros.fit_resample(X_train, y_train)"
   ]
  },
  {
   "cell_type": "code",
   "execution_count": 30,
   "metadata": {},
   "outputs": [
    {
     "name": "stderr",
     "output_type": "stream",
     "text": [
      "C:\\Users\\Junrong\\Anaconda3\\lib\\site-packages\\sklearn\\linear_model\\logistic.py:432: FutureWarning: Default solver will be changed to 'lbfgs' in 0.22. Specify a solver to silence this warning.\n",
      "  FutureWarning)\n"
     ]
    },
    {
     "data": {
      "text/plain": [
       "LogisticRegression(C=1.0, class_weight=None, dual=False, fit_intercept=True,\n",
       "                   intercept_scaling=1, l1_ratio=None, max_iter=100,\n",
       "                   multi_class='warn', n_jobs=None, penalty='l1',\n",
       "                   random_state=0, solver='warn', tol=0.0001, verbose=0,\n",
       "                   warm_start=False)"
      ]
     },
     "execution_count": 30,
     "metadata": {},
     "output_type": "execute_result"
    }
   ],
   "source": [
    "clf = LogisticRegression(random_state=0,penalty='l1')\n",
    "clf.fit(X_resampled, y_resampled)"
   ]
  },
  {
   "cell_type": "code",
   "execution_count": 31,
   "metadata": {},
   "outputs": [
    {
     "name": "stdout",
     "output_type": "stream",
     "text": [
      "Variable: Problems_Lack of exposure Coeff: 1.601950389187411\n",
      "Variable: Experience_3-4 years Coeff: 0.9807894113769333\n",
      "Variable: Visits_to_SMU Coeff: 0.005326536897815594\n",
      "Variable: SMU_convenience Coeff: 0.0\n",
      "Variable: Problems_Lack of medium Coeff: 0.0\n",
      "Variable: Problems_Lack of funds/grants Coeff: 0.0\n",
      "Variable: Problems_Lack of mentorship Coeff: 0.0\n",
      "Variable: enough_exposure_successfulartists Coeff: 0.0\n",
      "Variable: neg Coeff: 0.0\n",
      "Variable: neu Coeff: 0.0\n",
      "Variable: pos Coeff: 0.0\n",
      "Variable: compound Coeff: 0.0\n",
      "Variable: Area_of_visit_Campus Green - the green patch of the grass in the middle of the school Coeff: 0.0\n",
      "Variable: Area_of_visit_Common Walkways Coeff: 0.0\n",
      "Variable: Area_of_visit_Common Walkways,No, I haven’t been to SMU Coeff: 0.0\n",
      "Variable: Area_of_visit_Koufu Coeff: 0.0\n",
      "Variable: Area_of_visit_Koufu,Common Walkways Coeff: 0.0\n",
      "Variable: Area_of_visit_No, I haven’t been to SMU Coeff: 0.0\n",
      "Variable: Area_of_visit_Others Coeff: 0.0\n",
      "Variable: Area_of_visit_SMU Connexion - the new building beside National Museum of Singapore,T-Junction - the area outside Bras Basah MRT and the big steps  Coeff: 0.0\n",
      "Variable: Area_of_visit_SMU Connexion - the new building beside National Museum of Singapore,T-Junction - the area outside Bras Basah MRT and the big steps ,Others Coeff: 0.0\n",
      "Variable: Area_of_visit_T-Junction - the area outside Bras Basah MRT and the big steps  Coeff: 0.0\n",
      "Variable: Area_of_visit_T-Junction - the area outside Bras Basah MRT and the big steps ,Campus Green - the green patch of the grass in the middle of the school Coeff: 0.0\n",
      "Variable: Area_of_visit_T-Junction - the area outside Bras Basah MRT and the big steps ,Campus Green - the green patch of the grass in the middle of the school,Common Walkways Coeff: 0.0\n",
      "Variable: Area_of_visit_T-Junction - the area outside Bras Basah MRT and the big steps ,Common Walkways Coeff: 0.0\n",
      "Variable: Experience_> 5 years Coeff: 0.0\n",
      "Variable: School_Laselle Coeff: 0.0\n",
      "Variable: School_NAFA Coeff: 0.0\n",
      "Variable: School_Royal College of Music Coeff: 0.0\n",
      "Variable: School_SOTA Coeff: 0.0\n",
      "Variable: Course_Animation Arts ,Film  Coeff: 0.0\n",
      "Variable: Course_Arts Management Coeff: 0.0\n",
      "Variable: Course_Arts Management,Visual Arts  Coeff: 0.0\n",
      "Variable: Course_Dance  Coeff: 0.0\n",
      "Variable: Course_Dance ,Music  Coeff: 0.0\n",
      "Variable: Course_Design Coeff: 0.0\n",
      "Variable: Course_Fashion Coeff: 0.0\n",
      "Variable: Course_Film ,Visual Arts  Coeff: 0.0\n",
      "Variable: Course_Fine Arts Coeff: 0.0\n",
      "Variable: Course_Fine arts Coeff: 0.0\n",
      "Variable: Course_Integrated Arts Coeff: 0.0\n",
      "Variable: Course_Music  Coeff: 0.0\n",
      "Variable: Course_Music ,Theatre/Acting Coeff: 0.0\n",
      "Variable: Course_Theatre/Acting,Visual Arts  Coeff: 0.0\n",
      "Variable: Purpose_visit_Dance Coeff: 0.0\n",
      "Variable: Purpose_visit_Eat Coeff: 0.0\n",
      "Variable: Purpose_visit_Hang out with friends Coeff: 0.0\n",
      "Variable: Purpose_visit_I don’t visit SMU Coeff: 0.0\n",
      "Variable: Purpose_visit_Others Coeff: 0.0\n",
      "Variable: Course_Visual Arts  Coeff: -0.1062995258868018\n",
      "Variable: Experience_1-3 years Coeff: -0.15570208969588392\n",
      "Variable: enough_exposure_localartists Coeff: -0.4311607647104184\n"
     ]
    }
   ],
   "source": [
    "coeff_list = [[var,coeff] for var,coeff in zip(X.columns,clf.coef_[0])]\n",
    "coeff_list.sort(key = lambda x : x[1], reverse=True)\n",
    "for var,coeff in coeff_list:\n",
    "    print(\"Variable:\",var, \"Coeff:\",coeff)"
   ]
  },
  {
   "cell_type": "code",
   "execution_count": 32,
   "metadata": {},
   "outputs": [
    {
     "name": "stdout",
     "output_type": "stream",
     "text": [
      "              precision    recall  f1-score   support\n",
      "\n",
      "           0       0.33      0.33      0.33         3\n",
      "           1       0.78      0.78      0.78         9\n",
      "\n",
      "    accuracy                           0.67        12\n",
      "   macro avg       0.56      0.56      0.56        12\n",
      "weighted avg       0.67      0.67      0.67        12\n",
      "\n"
     ]
    }
   ],
   "source": [
    "from sklearn.metrics import classification_report\n",
    "from sklearn.metrics import accuracy_score\n",
    "\n",
    "y_pred = clf.predict(X_test)\n",
    "print(classification_report(y_test, y_pred))"
   ]
  },
  {
   "cell_type": "code",
   "execution_count": 33,
   "metadata": {},
   "outputs": [
    {
     "name": "stdout",
     "output_type": "stream",
     "text": [
      "Total sample size: 30\n",
      "Number of students Not interested: 8\n",
      "Number of students Interested: 22\n",
      "Ratio of sample interested: 0.73\n"
     ]
    }
   ],
   "source": [
    "y_pred = clf.predict(X)\n",
    "attendance, count = np.unique(y_pred, return_counts=True)\n",
    "\n",
    "int_label = ['Not interested','Interested']\n",
    "print(\"Total sample size:\",len(y_pred))\n",
    "for attendance, cnt in zip(attendance,count):\n",
    "    print(\"Number of students \"+int_label[attendance]+\":\",cnt)\n",
    "    \n",
    "print(\"Ratio of sample interested:\",round(count[1]/len(y_pred),2))"
   ]
  },
  {
   "cell_type": "code",
   "execution_count": 40,
   "metadata": {},
   "outputs": [
    {
     "name": "stdout",
     "output_type": "stream",
     "text": [
      "Variable: SMU_convenience Coeff: 1.5782382198792098\n",
      "Variable: Visits_to_SMU Coeff: 0.0\n",
      "Variable: Problems_Lack of medium Coeff: 0.0\n",
      "Variable: Problems_Lack of funds/grants Coeff: 0.0\n",
      "Variable: Problems_Lack of exposure Coeff: 0.0\n",
      "Variable: Problems_Lack of mentorship Coeff: 0.0\n",
      "Variable: enough_exposure_successfulartists Coeff: 0.0\n",
      "Variable: neg Coeff: 0.0\n",
      "Variable: neu Coeff: 0.0\n",
      "Variable: pos Coeff: 0.0\n",
      "Variable: compound Coeff: 0.0\n",
      "Variable: Area_of_visit_Campus Green - the green patch of the grass in the middle of the school Coeff: 0.0\n",
      "Variable: Area_of_visit_Common Walkways Coeff: 0.0\n",
      "Variable: Area_of_visit_Common Walkways,No, I haven’t been to SMU Coeff: 0.0\n",
      "Variable: Area_of_visit_Koufu Coeff: 0.0\n",
      "Variable: Area_of_visit_Koufu,Common Walkways Coeff: 0.0\n",
      "Variable: Area_of_visit_No, I haven’t been to SMU Coeff: 0.0\n",
      "Variable: Area_of_visit_Others Coeff: 0.0\n",
      "Variable: Area_of_visit_SMU Connexion - the new building beside National Museum of Singapore,T-Junction - the area outside Bras Basah MRT and the big steps  Coeff: 0.0\n",
      "Variable: Area_of_visit_SMU Connexion - the new building beside National Museum of Singapore,T-Junction - the area outside Bras Basah MRT and the big steps ,Others Coeff: 0.0\n",
      "Variable: Area_of_visit_T-Junction - the area outside Bras Basah MRT and the big steps  Coeff: 0.0\n",
      "Variable: Area_of_visit_T-Junction - the area outside Bras Basah MRT and the big steps ,Campus Green - the green patch of the grass in the middle of the school Coeff: 0.0\n",
      "Variable: Area_of_visit_T-Junction - the area outside Bras Basah MRT and the big steps ,Campus Green - the green patch of the grass in the middle of the school,Common Walkways Coeff: 0.0\n",
      "Variable: Area_of_visit_T-Junction - the area outside Bras Basah MRT and the big steps ,Common Walkways Coeff: 0.0\n",
      "Variable: Experience_1-3 years Coeff: 0.0\n",
      "Variable: Experience_3-4 years Coeff: 0.0\n",
      "Variable: Experience_> 5 years Coeff: 0.0\n",
      "Variable: School_Laselle Coeff: 0.0\n",
      "Variable: School_NAFA Coeff: 0.0\n",
      "Variable: School_Royal College of Music Coeff: 0.0\n",
      "Variable: School_SOTA Coeff: 0.0\n",
      "Variable: Course_Animation Arts ,Film  Coeff: 0.0\n",
      "Variable: Course_Arts Management Coeff: 0.0\n",
      "Variable: Course_Arts Management,Visual Arts  Coeff: 0.0\n",
      "Variable: Course_Dance  Coeff: 0.0\n",
      "Variable: Course_Dance ,Music  Coeff: 0.0\n",
      "Variable: Course_Design Coeff: 0.0\n",
      "Variable: Course_Fashion Coeff: 0.0\n",
      "Variable: Course_Film ,Visual Arts  Coeff: 0.0\n",
      "Variable: Course_Fine Arts Coeff: 0.0\n",
      "Variable: Course_Fine arts Coeff: 0.0\n",
      "Variable: Course_Integrated Arts Coeff: 0.0\n",
      "Variable: Course_Music  Coeff: 0.0\n",
      "Variable: Course_Music ,Theatre/Acting Coeff: 0.0\n",
      "Variable: Course_Theatre/Acting,Visual Arts  Coeff: 0.0\n",
      "Variable: Course_Visual Arts  Coeff: 0.0\n",
      "Variable: Purpose_visit_Dance Coeff: 0.0\n",
      "Variable: Purpose_visit_Eat Coeff: 0.0\n",
      "Variable: Purpose_visit_Hang out with friends Coeff: 0.0\n",
      "Variable: Purpose_visit_I don’t visit SMU Coeff: 0.0\n",
      "Variable: Purpose_visit_Others Coeff: 0.0\n",
      "Variable: enough_exposure_localartists Coeff: -0.8846020232699284\n",
      "              precision    recall  f1-score   support\n",
      "\n",
      "           0       0.50      1.00      0.67         1\n",
      "           1       1.00      0.95      0.97        20\n",
      "\n",
      "    accuracy                           0.95        21\n",
      "   macro avg       0.75      0.97      0.82        21\n",
      "weighted avg       0.98      0.95      0.96        21\n",
      "\n"
     ]
    },
    {
     "name": "stderr",
     "output_type": "stream",
     "text": [
      "C:\\Users\\Junrong\\Anaconda3\\lib\\site-packages\\sklearn\\linear_model\\logistic.py:432: FutureWarning: Default solver will be changed to 'lbfgs' in 0.22. Specify a solver to silence this warning.\n",
      "  FutureWarning)\n"
     ]
    }
   ],
   "source": [
    "X_train, X_test, y_train, y_test = train_test_split(X, y2, test_size=0.7, random_state=0,stratify = y2)\n",
    "\n",
    "ros = RandomOverSampler(random_state=1,sampling_strategy=1)\n",
    "X_resampled, y_resampled = ros.fit_resample(X_train, y_train)\n",
    "\n",
    "clf = LogisticRegression(random_state=0,penalty='l1')\n",
    "clf.fit(X_resampled, y_resampled)\n",
    "\n",
    "coeff_list = [[var,coeff] for var,coeff in zip(X.columns,clf.coef_[0])]\n",
    "coeff_list.sort(key = lambda x : x[1], reverse=True)\n",
    "for var,coeff in coeff_list:\n",
    "    print(\"Variable:\",var, \"Coeff:\",coeff)\n",
    "    \n",
    "    \n",
    "from sklearn.metrics import classification_report\n",
    "from sklearn.metrics import accuracy_score\n",
    "\n",
    "y_pred = clf.predict(X_test)\n",
    "print(classification_report(y_test, y_pred))"
   ]
  },
  {
   "cell_type": "code",
   "execution_count": 23,
   "metadata": {},
   "outputs": [],
   "source": [
    "#### SInce y2 has higher score (More are interested in collaboration), we will choose collabration."
   ]
  },
  {
   "cell_type": "code",
   "execution_count": 35,
   "metadata": {},
   "outputs": [
    {
     "name": "stdout",
     "output_type": "stream",
     "text": [
      "Total sample size: 30\n",
      "Number of students Not interested: 2\n",
      "Number of students Interested: 28\n",
      "Ratio of sample interested: 0.93\n"
     ]
    }
   ],
   "source": [
    "y_pred = clf.predict(X)\n",
    "attendance, count = np.unique(y_pred, return_counts=True)\n",
    "\n",
    "int_label = ['Not interested','Interested']\n",
    "print(\"Total sample size:\",len(y_pred))\n",
    "for attendance, cnt in zip(attendance,count):\n",
    "    print(\"Number of students \"+int_label[attendance]+\":\",cnt)\n",
    "    \n",
    "print(\"Ratio of sample interested:\",round(count[1]/len(y_pred),2))"
   ]
  },
  {
   "cell_type": "code",
   "execution_count": null,
   "metadata": {},
   "outputs": [],
   "source": []
  }
 ],
 "metadata": {
  "kernelspec": {
   "display_name": "Python 3",
   "language": "python",
   "name": "python3"
  },
  "language_info": {
   "codemirror_mode": {
    "name": "ipython",
    "version": 3
   },
   "file_extension": ".py",
   "mimetype": "text/x-python",
   "name": "python",
   "nbconvert_exporter": "python",
   "pygments_lexer": "ipython3",
   "version": "3.6.9"
  }
 },
 "nbformat": 4,
 "nbformat_minor": 2
}
